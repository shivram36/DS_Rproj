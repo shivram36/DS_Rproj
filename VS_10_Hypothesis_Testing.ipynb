{
  "cells": [
    {
      "cell_type": "markdown",
      "metadata": {
        "id": "view-in-github",
        "colab_type": "text"
      },
      "source": [
        "<a href=\"https://colab.research.google.com/github/shivram36/DS_Rproj/blob/main/VS_10_Hypothesis_Testing.ipynb\" target=\"_parent\"><img src=\"https://colab.research.google.com/assets/colab-badge.svg\" alt=\"Open In Colab\"/></a>"
      ]
    },
    {
      "cell_type": "code",
      "execution_count": null,
      "id": "2a597bfe",
      "metadata": {
        "id": "2a597bfe"
      },
      "outputs": [],
      "source": [
        "import numpy as np\n",
        "import pandas as pd\n",
        "import scipy.stats as stats"
      ]
    },
    {
      "cell_type": "code",
      "execution_count": null,
      "id": "ec00e0a2",
      "metadata": {
        "id": "ec00e0a2"
      },
      "outputs": [],
      "source": [
        "df = pd.read_csv(\"C:/Users/Vikas Srivastava/Desktop/ExcelR/Latest DS Material/Day 10-2 Proportion test and 2 sample t test/survey_data.csv\")"
      ]
    },
    {
      "cell_type": "code",
      "execution_count": null,
      "id": "eff3d5df",
      "metadata": {
        "id": "eff3d5df",
        "outputId": "218a57f8-2f69-4f45-e7ba-94bbc3f69f09"
      },
      "outputs": [
        {
          "data": {
            "text/html": [
              "<div>\n",
              "<style scoped>\n",
              "    .dataframe tbody tr th:only-of-type {\n",
              "        vertical-align: middle;\n",
              "    }\n",
              "\n",
              "    .dataframe tbody tr th {\n",
              "        vertical-align: top;\n",
              "    }\n",
              "\n",
              "    .dataframe thead th {\n",
              "        text-align: right;\n",
              "    }\n",
              "</style>\n",
              "<table border=\"1\" class=\"dataframe\">\n",
              "  <thead>\n",
              "    <tr style=\"text-align: right;\">\n",
              "      <th></th>\n",
              "      <th>ID</th>\n",
              "      <th>Gender</th>\n",
              "      <th>location</th>\n",
              "      <th>type_of_service</th>\n",
              "      <th>month_-1</th>\n",
              "      <th>month_0</th>\n",
              "      <th>month_+1</th>\n",
              "    </tr>\n",
              "  </thead>\n",
              "  <tbody>\n",
              "    <tr>\n",
              "      <th>0</th>\n",
              "      <td>70</td>\n",
              "      <td>0</td>\n",
              "      <td>1</td>\n",
              "      <td>1</td>\n",
              "      <td>61</td>\n",
              "      <td>82</td>\n",
              "      <td>50</td>\n",
              "    </tr>\n",
              "    <tr>\n",
              "      <th>1</th>\n",
              "      <td>121</td>\n",
              "      <td>1</td>\n",
              "      <td>2</td>\n",
              "      <td>3</td>\n",
              "      <td>65</td>\n",
              "      <td>73</td>\n",
              "      <td>68</td>\n",
              "    </tr>\n",
              "    <tr>\n",
              "      <th>2</th>\n",
              "      <td>86</td>\n",
              "      <td>0</td>\n",
              "      <td>3</td>\n",
              "      <td>1</td>\n",
              "      <td>47</td>\n",
              "      <td>49</td>\n",
              "      <td>63</td>\n",
              "    </tr>\n",
              "    <tr>\n",
              "      <th>3</th>\n",
              "      <td>141</td>\n",
              "      <td>0</td>\n",
              "      <td>3</td>\n",
              "      <td>3</td>\n",
              "      <td>76</td>\n",
              "      <td>48</td>\n",
              "      <td>42</td>\n",
              "    </tr>\n",
              "    <tr>\n",
              "      <th>4</th>\n",
              "      <td>172</td>\n",
              "      <td>0</td>\n",
              "      <td>2</td>\n",
              "      <td>2</td>\n",
              "      <td>72</td>\n",
              "      <td>97</td>\n",
              "      <td>35</td>\n",
              "    </tr>\n",
              "  </tbody>\n",
              "</table>\n",
              "</div>"
            ],
            "text/plain": [
              "    ID  Gender  location  type_of_service  month_-1  month_0  month_+1\n",
              "0   70       0         1                1        61       82        50\n",
              "1  121       1         2                3        65       73        68\n",
              "2   86       0         3                1        47       49        63\n",
              "3  141       0         3                3        76       48        42\n",
              "4  172       0         2                2        72       97        35"
            ]
          },
          "execution_count": 3,
          "metadata": {},
          "output_type": "execute_result"
        }
      ],
      "source": [
        "df.head()"
      ]
    },
    {
      "cell_type": "code",
      "execution_count": null,
      "id": "626ad827",
      "metadata": {
        "id": "626ad827",
        "outputId": "6e30e08b-c920-42d1-81f5-8457d8c7548b"
      },
      "outputs": [
        {
          "data": {
            "text/plain": [
              "71.32"
            ]
          },
          "execution_count": 4,
          "metadata": {},
          "output_type": "execute_result"
        }
      ],
      "source": [
        "df['month_0'].mean()"
      ]
    },
    {
      "cell_type": "code",
      "execution_count": null,
      "id": "97e09105",
      "metadata": {
        "id": "97e09105",
        "outputId": "716a806d-e6c1-4ac7-c281-a5a8ae477f27"
      },
      "outputs": [
        {
          "data": {
            "text/plain": [
              "59.185"
            ]
          },
          "execution_count": 5,
          "metadata": {},
          "output_type": "execute_result"
        }
      ],
      "source": [
        "df['month_-1'].mean()"
      ]
    },
    {
      "cell_type": "code",
      "execution_count": null,
      "id": "dec95d07",
      "metadata": {
        "id": "dec95d07",
        "outputId": "9544e67f-1593-47d6-f61c-b8cc9a29df8d"
      },
      "outputs": [
        {
          "data": {
            "text/plain": [
              "58.3"
            ]
          },
          "execution_count": 6,
          "metadata": {},
          "output_type": "execute_result"
        }
      ],
      "source": [
        "df['month_+1'].mean()"
      ]
    },
    {
      "cell_type": "markdown",
      "id": "a32910b7",
      "metadata": {
        "id": "a32910b7"
      },
      "source": [
        "#### One Sample T-Test"
      ]
    },
    {
      "cell_type": "code",
      "execution_count": null,
      "id": "32feae2c",
      "metadata": {
        "id": "32feae2c",
        "outputId": "0f92c0b5-cd8f-477f-a716-d9c408346b76"
      },
      "outputs": [
        {
          "data": {
            "text/plain": [
              "Ttest_1sampResult(statistic=18.714161260526144, pvalue=9.540794464037753e-46)"
            ]
          },
          "execution_count": 7,
          "metadata": {},
          "output_type": "execute_result"
        }
      ],
      "source": [
        "### assume given mean = 50\n",
        "## H0: mean for current month is 50\n",
        "\n",
        "stats.ttest_1samp(df['month_0'], popmean= 50)"
      ]
    },
    {
      "cell_type": "code",
      "execution_count": null,
      "id": "7554b13b",
      "metadata": {
        "id": "7554b13b",
        "outputId": "1dfa4cbc-28fc-4e23-b663-7fc1b5df759e"
      },
      "outputs": [
        {
          "data": {
            "text/plain": [
              "71.32"
            ]
          },
          "execution_count": 8,
          "metadata": {},
          "output_type": "execute_result"
        }
      ],
      "source": [
        "df['month_0'].mean()"
      ]
    },
    {
      "cell_type": "markdown",
      "id": "6333abf8",
      "metadata": {
        "id": "6333abf8"
      },
      "source": [
        "#### Two Sample T-Test (Paired)"
      ]
    },
    {
      "cell_type": "code",
      "execution_count": null,
      "id": "36571edd",
      "metadata": {
        "id": "36571edd",
        "outputId": "b2f9a7ca-96f0-41c9-adc4-d23f74df0799"
      },
      "outputs": [
        {
          "data": {
            "text/plain": [
              "Ttest_relResult(statistic=0.61187183339573, pvalue=0.5413209857747188)"
            ]
          },
          "execution_count": 9,
          "metadata": {},
          "output_type": "execute_result"
        }
      ],
      "source": [
        "### H0: mean of both samples are same\n",
        "\n",
        "stats.ttest_rel(df['month_-1'], df['month_+1'])"
      ]
    },
    {
      "cell_type": "markdown",
      "id": "c854a63f",
      "metadata": {
        "id": "c854a63f"
      },
      "source": [
        "#### ANOVA"
      ]
    },
    {
      "cell_type": "code",
      "execution_count": null,
      "id": "8bb5cfe7",
      "metadata": {
        "id": "8bb5cfe7",
        "outputId": "f877d85c-9408-4113-ad7d-d4ca9e659049"
      },
      "outputs": [
        {
          "data": {
            "text/html": [
              "<div>\n",
              "<style scoped>\n",
              "    .dataframe tbody tr th:only-of-type {\n",
              "        vertical-align: middle;\n",
              "    }\n",
              "\n",
              "    .dataframe tbody tr th {\n",
              "        vertical-align: top;\n",
              "    }\n",
              "\n",
              "    .dataframe thead th {\n",
              "        text-align: right;\n",
              "    }\n",
              "</style>\n",
              "<table border=\"1\" class=\"dataframe\">\n",
              "  <thead>\n",
              "    <tr style=\"text-align: right;\">\n",
              "      <th></th>\n",
              "      <th>ID</th>\n",
              "      <th>Gender</th>\n",
              "      <th>location</th>\n",
              "      <th>type_of_service</th>\n",
              "      <th>month_-1</th>\n",
              "      <th>month_0</th>\n",
              "      <th>month_+1</th>\n",
              "    </tr>\n",
              "  </thead>\n",
              "  <tbody>\n",
              "    <tr>\n",
              "      <th>0</th>\n",
              "      <td>70</td>\n",
              "      <td>0</td>\n",
              "      <td>1</td>\n",
              "      <td>1</td>\n",
              "      <td>61</td>\n",
              "      <td>82</td>\n",
              "      <td>50</td>\n",
              "    </tr>\n",
              "    <tr>\n",
              "      <th>1</th>\n",
              "      <td>121</td>\n",
              "      <td>1</td>\n",
              "      <td>2</td>\n",
              "      <td>3</td>\n",
              "      <td>65</td>\n",
              "      <td>73</td>\n",
              "      <td>68</td>\n",
              "    </tr>\n",
              "    <tr>\n",
              "      <th>2</th>\n",
              "      <td>86</td>\n",
              "      <td>0</td>\n",
              "      <td>3</td>\n",
              "      <td>1</td>\n",
              "      <td>47</td>\n",
              "      <td>49</td>\n",
              "      <td>63</td>\n",
              "    </tr>\n",
              "    <tr>\n",
              "      <th>3</th>\n",
              "      <td>141</td>\n",
              "      <td>0</td>\n",
              "      <td>3</td>\n",
              "      <td>3</td>\n",
              "      <td>76</td>\n",
              "      <td>48</td>\n",
              "      <td>42</td>\n",
              "    </tr>\n",
              "    <tr>\n",
              "      <th>4</th>\n",
              "      <td>172</td>\n",
              "      <td>0</td>\n",
              "      <td>2</td>\n",
              "      <td>2</td>\n",
              "      <td>72</td>\n",
              "      <td>97</td>\n",
              "      <td>35</td>\n",
              "    </tr>\n",
              "  </tbody>\n",
              "</table>\n",
              "</div>"
            ],
            "text/plain": [
              "    ID  Gender  location  type_of_service  month_-1  month_0  month_+1\n",
              "0   70       0         1                1        61       82        50\n",
              "1  121       1         2                3        65       73        68\n",
              "2   86       0         3                1        47       49        63\n",
              "3  141       0         3                3        76       48        42\n",
              "4  172       0         2                2        72       97        35"
            ]
          },
          "execution_count": 17,
          "metadata": {},
          "output_type": "execute_result"
        }
      ],
      "source": [
        "df.head()"
      ]
    },
    {
      "cell_type": "code",
      "execution_count": null,
      "id": "a39387b4",
      "metadata": {
        "id": "a39387b4",
        "outputId": "4d283e8a-55cb-4325-a423-9faff2f72875"
      },
      "outputs": [
        {
          "data": {
            "text/html": [
              "<div>\n",
              "<style scoped>\n",
              "    .dataframe tbody tr th:only-of-type {\n",
              "        vertical-align: middle;\n",
              "    }\n",
              "\n",
              "    .dataframe tbody tr th {\n",
              "        vertical-align: top;\n",
              "    }\n",
              "\n",
              "    .dataframe thead th {\n",
              "        text-align: right;\n",
              "    }\n",
              "</style>\n",
              "<table border=\"1\" class=\"dataframe\">\n",
              "  <thead>\n",
              "    <tr style=\"text-align: right;\">\n",
              "      <th></th>\n",
              "      <th>ID</th>\n",
              "      <th>Gender</th>\n",
              "      <th>location</th>\n",
              "      <th>type_of_service</th>\n",
              "      <th>month_-1</th>\n",
              "      <th>latest_month</th>\n",
              "      <th>month_+1</th>\n",
              "    </tr>\n",
              "  </thead>\n",
              "  <tbody>\n",
              "    <tr>\n",
              "      <th>0</th>\n",
              "      <td>70</td>\n",
              "      <td>0</td>\n",
              "      <td>1</td>\n",
              "      <td>1</td>\n",
              "      <td>61</td>\n",
              "      <td>82</td>\n",
              "      <td>50</td>\n",
              "    </tr>\n",
              "    <tr>\n",
              "      <th>1</th>\n",
              "      <td>121</td>\n",
              "      <td>1</td>\n",
              "      <td>2</td>\n",
              "      <td>3</td>\n",
              "      <td>65</td>\n",
              "      <td>73</td>\n",
              "      <td>68</td>\n",
              "    </tr>\n",
              "    <tr>\n",
              "      <th>2</th>\n",
              "      <td>86</td>\n",
              "      <td>0</td>\n",
              "      <td>3</td>\n",
              "      <td>1</td>\n",
              "      <td>47</td>\n",
              "      <td>49</td>\n",
              "      <td>63</td>\n",
              "    </tr>\n",
              "    <tr>\n",
              "      <th>3</th>\n",
              "      <td>141</td>\n",
              "      <td>0</td>\n",
              "      <td>3</td>\n",
              "      <td>3</td>\n",
              "      <td>76</td>\n",
              "      <td>48</td>\n",
              "      <td>42</td>\n",
              "    </tr>\n",
              "    <tr>\n",
              "      <th>4</th>\n",
              "      <td>172</td>\n",
              "      <td>0</td>\n",
              "      <td>2</td>\n",
              "      <td>2</td>\n",
              "      <td>72</td>\n",
              "      <td>97</td>\n",
              "      <td>35</td>\n",
              "    </tr>\n",
              "  </tbody>\n",
              "</table>\n",
              "</div>"
            ],
            "text/plain": [
              "    ID  Gender  location  type_of_service  month_-1  latest_month  month_+1\n",
              "0   70       0         1                1        61            82        50\n",
              "1  121       1         2                3        65            73        68\n",
              "2   86       0         3                1        47            49        63\n",
              "3  141       0         3                3        76            48        42\n",
              "4  172       0         2                2        72            97        35"
            ]
          },
          "execution_count": 18,
          "metadata": {},
          "output_type": "execute_result"
        }
      ],
      "source": [
        "df = df.rename(columns = {'month_0':'latest_month'})\n",
        "df.head()"
      ]
    },
    {
      "cell_type": "code",
      "execution_count": null,
      "id": "ab81cd15",
      "metadata": {
        "id": "ab81cd15",
        "outputId": "09b6b87b-5242-4298-b8a4-8f963659a4ba"
      },
      "outputs": [
        {
          "data": {
            "text/plain": [
              "2    105\n",
              "3     50\n",
              "1     45\n",
              "Name: type_of_service, dtype: int64"
            ]
          },
          "execution_count": 19,
          "metadata": {},
          "output_type": "execute_result"
        }
      ],
      "source": [
        "### find number of segments\n",
        "\n",
        "df.type_of_service.value_counts()"
      ]
    },
    {
      "cell_type": "code",
      "execution_count": null,
      "id": "856d64a0",
      "metadata": {
        "id": "856d64a0"
      },
      "outputs": [],
      "source": [
        "s1 = df.latest_month[df.type_of_service==1]\n",
        "s2 = df.latest_month[df.type_of_service==2]\n",
        "s3 = df.latest_month[df.type_of_service==3]"
      ]
    },
    {
      "cell_type": "code",
      "execution_count": null,
      "id": "d9f297a0",
      "metadata": {
        "id": "d9f297a0",
        "outputId": "34e9d77b-6721-49cd-8aea-92ce6c32f270"
      },
      "outputs": [
        {
          "data": {
            "text/plain": [
              "F_onewayResult(statistic=0.7492848874495168, pvalue=0.4740467323895884)"
            ]
          },
          "execution_count": 21,
          "metadata": {},
          "output_type": "execute_result"
        }
      ],
      "source": [
        "stats.f_oneway(s1, s2, s3)"
      ]
    },
    {
      "cell_type": "markdown",
      "id": "6e652249",
      "metadata": {
        "id": "6e652249"
      },
      "source": [
        "#### Chi-squre Test"
      ]
    },
    {
      "cell_type": "code",
      "execution_count": null,
      "id": "ee62e386",
      "metadata": {
        "id": "ee62e386",
        "outputId": "d9bb880e-6a42-44cc-ff4e-f78a35342cc2"
      },
      "outputs": [
        {
          "data": {
            "text/html": [
              "<div>\n",
              "<style scoped>\n",
              "    .dataframe tbody tr th:only-of-type {\n",
              "        vertical-align: middle;\n",
              "    }\n",
              "\n",
              "    .dataframe tbody tr th {\n",
              "        vertical-align: top;\n",
              "    }\n",
              "\n",
              "    .dataframe thead th {\n",
              "        text-align: right;\n",
              "    }\n",
              "</style>\n",
              "<table border=\"1\" class=\"dataframe\">\n",
              "  <thead>\n",
              "    <tr style=\"text-align: right;\">\n",
              "      <th>location</th>\n",
              "      <th>1</th>\n",
              "      <th>2</th>\n",
              "      <th>3</th>\n",
              "      <th>All</th>\n",
              "    </tr>\n",
              "    <tr>\n",
              "      <th>type_of_service</th>\n",
              "      <th></th>\n",
              "      <th></th>\n",
              "      <th></th>\n",
              "      <th></th>\n",
              "    </tr>\n",
              "  </thead>\n",
              "  <tbody>\n",
              "    <tr>\n",
              "      <th>1</th>\n",
              "      <td>16</td>\n",
              "      <td>20</td>\n",
              "      <td>9</td>\n",
              "      <td>45</td>\n",
              "    </tr>\n",
              "    <tr>\n",
              "      <th>2</th>\n",
              "      <td>19</td>\n",
              "      <td>44</td>\n",
              "      <td>42</td>\n",
              "      <td>105</td>\n",
              "    </tr>\n",
              "    <tr>\n",
              "      <th>3</th>\n",
              "      <td>12</td>\n",
              "      <td>31</td>\n",
              "      <td>7</td>\n",
              "      <td>50</td>\n",
              "    </tr>\n",
              "    <tr>\n",
              "      <th>All</th>\n",
              "      <td>47</td>\n",
              "      <td>95</td>\n",
              "      <td>58</td>\n",
              "      <td>200</td>\n",
              "    </tr>\n",
              "  </tbody>\n",
              "</table>\n",
              "</div>"
            ],
            "text/plain": [
              "location          1   2   3  All\n",
              "type_of_service                 \n",
              "1                16  20   9   45\n",
              "2                19  44  42  105\n",
              "3                12  31   7   50\n",
              "All              47  95  58  200"
            ]
          },
          "execution_count": 23,
          "metadata": {},
          "output_type": "execute_result"
        }
      ],
      "source": [
        "crosstable = pd.crosstab(df.type_of_service, df.location, margins = True)\n",
        "crosstable"
      ]
    },
    {
      "cell_type": "code",
      "execution_count": null,
      "id": "a2f5b485",
      "metadata": {
        "id": "a2f5b485",
        "outputId": "53e6b2fb-0c43-4693-97dd-16f34e24d22b"
      },
      "outputs": [
        {
          "data": {
            "text/plain": [
              "(16.60444164948934,\n",
              " 0.055282939487992365,\n",
              " 9,\n",
              " array([[ 10.575,  21.375,  13.05 ,  45.   ],\n",
              "        [ 24.675,  49.875,  30.45 , 105.   ],\n",
              "        [ 11.75 ,  23.75 ,  14.5  ,  50.   ],\n",
              "        [ 47.   ,  95.   ,  58.   , 200.   ]]))"
            ]
          },
          "execution_count": 24,
          "metadata": {},
          "output_type": "execute_result"
        }
      ],
      "source": [
        "stats.chi2_contingency(crosstable)"
      ]
    },
    {
      "cell_type": "code",
      "execution_count": null,
      "id": "2f1b4128",
      "metadata": {
        "id": "2f1b4128"
      },
      "outputs": [],
      "source": []
    },
    {
      "cell_type": "code",
      "execution_count": null,
      "id": "f8401f50",
      "metadata": {
        "id": "f8401f50"
      },
      "outputs": [],
      "source": []
    },
    {
      "cell_type": "code",
      "execution_count": null,
      "id": "f71ad2e7",
      "metadata": {
        "id": "f71ad2e7"
      },
      "outputs": [],
      "source": []
    },
    {
      "cell_type": "code",
      "execution_count": null,
      "id": "da26fcc0",
      "metadata": {
        "id": "da26fcc0"
      },
      "outputs": [],
      "source": []
    }
  ],
  "metadata": {
    "kernelspec": {
      "display_name": "Python 3 (ipykernel)",
      "language": "python",
      "name": "python3"
    },
    "language_info": {
      "codemirror_mode": {
        "name": "ipython",
        "version": 3
      },
      "file_extension": ".py",
      "mimetype": "text/x-python",
      "name": "python",
      "nbconvert_exporter": "python",
      "pygments_lexer": "ipython3",
      "version": "3.9.12"
    },
    "colab": {
      "provenance": [],
      "include_colab_link": true
    }
  },
  "nbformat": 4,
  "nbformat_minor": 5
}